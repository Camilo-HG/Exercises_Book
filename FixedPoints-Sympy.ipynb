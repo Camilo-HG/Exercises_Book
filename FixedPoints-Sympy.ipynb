{
 "cells": [
  {
   "cell_type": "code",
   "execution_count": 1,
   "metadata": {},
   "outputs": [],
   "source": [
    "from sympy.core.symbol import symbols\n",
    "from sympy.solvers.solveset import nonlinsolve"
   ]
  },
  {
   "cell_type": "code",
   "execution_count": 2,
   "metadata": {},
   "outputs": [
    {
     "data": {
      "text/plain": [
       "{(-1, -1), (-1/2, -2), (1/2, 2), (1, 1)}"
      ]
     },
     "execution_count": 2,
     "metadata": {},
     "output_type": "execute_result"
    }
   ],
   "source": [
    "x, y, z = symbols('x, y, z', real=True)\n",
    "nonlinsolve([x*y - 1, 4*x**2 + y**2 - 5], [x, y])"
   ]
  },
  {
   "cell_type": "code",
   "execution_count": 30,
   "metadata": {},
   "outputs": [],
   "source": [
    "from sympy.solvers import solve, nonlinsolve\n",
    "from sympy import Symbol, symbols\n",
    "from sympy import sin, cos, limit\n",
    "from mpmath import *\n",
    "from sympy import *"
   ]
  },
  {
   "cell_type": "code",
   "execution_count": 25,
   "metadata": {},
   "outputs": [
    {
     "data": {
      "text/plain": [
       "Eq(x, 1.00000000000000)"
      ]
     },
     "execution_count": 25,
     "metadata": {},
     "output_type": "execute_result"
    }
   ],
   "source": [
    "x = Symbol('x')\n",
    "eq = x**2 - 1\n",
    "solve([x >= 0.5, x <= 3, eq ], x)"
   ]
  },
  {
   "cell_type": "code",
   "execution_count": 31,
   "metadata": {},
   "outputs": [
    {
     "data": {
      "text/plain": [
       "[{theta: 0}, {theta: pi}]"
      ]
     },
     "execution_count": 31,
     "metadata": {},
     "output_type": "execute_result"
    }
   ],
   "source": [
    "x, theta, gamma = symbols('x, theta, gamma', real=True)\n",
    "\n",
    "eq1 = sin(theta)/x\n",
    "\n",
    "solve(eq1, [x, theta])"
   ]
  },
  {
   "cell_type": "code",
   "execution_count": 32,
   "metadata": {},
   "outputs": [
    {
     "name": "stdout",
     "output_type": "stream",
     "text": [
      "[{x: (gamma + 1)/gamma}]\n",
      "\n",
      "\n",
      "[{x: (gamma - 1)/gamma}]\n"
     ]
    }
   ],
   "source": [
    "# theta = 0 --> cos(0) = 1\n",
    "eq2 = 1 + gamma * (1 - x)\n",
    "\n",
    "# theta = pi --> cos(pi) = -1\n",
    "eq3 = -1 + gamma * (1 - x)\n",
    "\n",
    "\n",
    "print(solve(eq2, [x, gamma]))\n",
    "print('\\n')\n",
    "print(solve(eq3, [x, gamma]))"
   ]
  },
  {
   "cell_type": "code",
   "execution_count": 33,
   "metadata": {},
   "outputs": [],
   "source": [
    "sol3 = solve(eq3, [x, gamma])"
   ]
  },
  {
   "cell_type": "code",
   "execution_count": 34,
   "metadata": {},
   "outputs": [
    {
     "data": {
      "text/plain": [
       "0.666666666666667"
      ]
     },
     "execution_count": 34,
     "metadata": {},
     "output_type": "execute_result"
    }
   ],
   "source": [
    "sol3[0][x].evalf(subs={gamma:3})"
   ]
  },
  {
   "cell_type": "code",
   "execution_count": null,
   "metadata": {},
   "outputs": [],
   "source": []
  }
 ],
 "metadata": {
  "kernelspec": {
   "display_name": "Python 3",
   "language": "python",
   "name": "python3"
  },
  "language_info": {
   "codemirror_mode": {
    "name": "ipython",
    "version": 3
   },
   "file_extension": ".py",
   "mimetype": "text/x-python",
   "name": "python",
   "nbconvert_exporter": "python",
   "pygments_lexer": "ipython3",
   "version": "3.5.2"
  }
 },
 "nbformat": 4,
 "nbformat_minor": 2
}
